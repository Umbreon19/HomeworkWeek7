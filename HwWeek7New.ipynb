{
 "cells": [
  {
   "cell_type": "code",
   "execution_count": 8,
   "metadata": {},
   "outputs": [
    {
     "name": "stdout",
     "output_type": "stream",
     "text": [
      "What is your name?Torie\n",
      "hi Torie I'm cody! Nice to meet you!\n",
      "What do you like to do?eat cheese\n",
      "eat cheese is nice.  I like to  eat cheese too!\n",
      "if babies don't know how to talk, how do they think?\n",
      "but that's besides the point.  how are you feeling today?lalalal\n",
      "I understand.  \n",
      "oh look at the time! I've got to go! see you around Torie\n"
     ]
    }
   ],
   "source": [
    "    name=input(\"What is your name?\")\n",
    "    print(\"hi\", name, \"I'm cody! Nice to meet you!\")\n",
    "    hobby=input(\"What do you like to do?\")\n",
    "    print(hobby, \"is nice.  I like to \", hobby ,\"too!\")\n",
    "    print(\"if babies don't know how to talk, how do they think?\")\n",
    "    feelings=input(\"but that's besides the point.  how are you feeling today?\")\n",
    "    print(\"I understand.  \")\n",
    "    print(\"oh look at the time! I've got to go! see you around\", name)"
   ]
  },
  {
   "cell_type": "code",
   "execution_count": null,
   "metadata": {},
   "outputs": [],
   "source": []
  }
 ],
 "metadata": {
  "kernelspec": {
   "display_name": "Python 3",
   "language": "python",
   "name": "python3"
  },
  "language_info": {
   "codemirror_mode": {
    "name": "ipython",
    "version": 3
   },
   "file_extension": ".py",
   "mimetype": "text/x-python",
   "name": "python",
   "nbconvert_exporter": "python",
   "pygments_lexer": "ipython3",
   "version": "3.8.3"
  }
 },
 "nbformat": 4,
 "nbformat_minor": 4
}
